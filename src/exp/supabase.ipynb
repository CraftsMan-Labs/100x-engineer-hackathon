{
 "cells": [
  {
   "cell_type": "code",
   "execution_count": 2,
   "metadata": {},
   "outputs": [],
   "source": [
    "import os\n",
    "from supabase import create_client, Client\n",
    "from typing import Dict, Optional, Tuple\n",
    "import time\n",
    "\n",
    "class SupabaseAuth:\n",
    "    def __init__(self, url: str, key: str):\n",
    "        self.supabase: Client = create_client(url, key)\n",
    "    \n",
    "    def create_user(self, email: str, password: str, user_metadata: Optional[Dict] = None) -> Dict:\n",
    "        try:\n",
    "            data = {\n",
    "                \"email\": email,\n",
    "                \"password\": password,\n",
    "                \"options\": {\n",
    "                    \"data\": user_metadata or {},\n",
    "                    \"email_confirm\": False,  # Disable email confirmation\n",
    "                }\n",
    "            }\n",
    "            \n",
    "            response = self.supabase.auth.sign_up(data)\n",
    "            return {\n",
    "                \"status\": \"success\",\n",
    "                \"message\": \"OTP sent to email\",\n",
    "                \"user\": response.user\n",
    "            }\n",
    "        except Exception as e:\n",
    "            return {\"status\": \"error\", \"message\": str(e)}\n",
    "    \n",
    "    def authenticate_user(self, email: str, password: str) -> Dict:\n",
    "        try:\n",
    "            response = self.supabase.auth.sign_in_with_password({\n",
    "                \"email\": email,\n",
    "                \"password\": password\n",
    "            })\n",
    "            return {\"status\": \"success\", \"data\": response}\n",
    "        except Exception as e:\n",
    "            return {\"status\": \"error\", \"message\": str(e)}\n",
    "    \n",
    "    def validate_user(self, access_token: Optional[str] = None) -> Dict:\n",
    "        try:\n",
    "            user = self.supabase.auth.get_user(access_token) if access_token else self.supabase.auth.get_user()\n",
    "            return {\"status\": \"success\", \"data\": user}\n",
    "        except Exception as e:\n",
    "            return {\"status\": \"error\", \"message\": str(e)}\n",
    "    \n",
    "    def sign_out(self) -> Dict:\n",
    "        try:\n",
    "            self.supabase.auth.sign_out()\n",
    "            return {\"status\": \"success\", \"message\": \"Signed out successfully\"}\n",
    "        except Exception as e:\n",
    "            return {\"status\": \"error\", \"message\": str(e)}\n"
   ]
  },
  {
   "cell_type": "code",
   "execution_count": 3,
   "metadata": {},
   "outputs": [],
   "source": [
    "from dotenv import load_dotenv\n",
    "\n",
    "load_dotenv()\n",
    "\n",
    "auth = SupabaseAuth(\n",
    "    url=os.getenv(\"SUPABASE_URL\"),\n",
    "    key=os.getenv(\"SUPABASE_KEY\")\n",
    ")\n",
    "\n",
    "# Create a new user\n",
    "new_user = auth.create_user(\n",
    "    email=\"rishubcheddlla@gmail.com\",\n",
    "    password=\"secure_password\",\n",
    "    user_metadata={\"name\": \"Rishub C R\"}\n",
    ")\n"
   ]
  },
  {
   "cell_type": "code",
   "execution_count": 4,
   "metadata": {},
   "outputs": [
    {
     "data": {
      "text/plain": [
       "{'status': 'success',\n",
       " 'message': 'OTP sent to email',\n",
       " 'user': User(id='e1601828-4162-4a53-92ef-35e01ec30580', app_metadata={'provider': 'email', 'providers': ['email']}, user_metadata={'name': 'Rishub C R'}, aud='authenticated', confirmation_sent_at=datetime.datetime(2024, 12, 12, 12, 1, 4, 435002, tzinfo=TzInfo(UTC)), recovery_sent_at=datetime.datetime(2024, 12, 12, 11, 48, 13, 272263, tzinfo=TzInfo(UTC)), email_change_sent_at=None, new_email=None, new_phone=None, invited_at=None, action_link=None, email='rishubcheddlla@gmail.com', phone='', created_at=datetime.datetime(2024, 12, 12, 12, 1, 4, 435002, tzinfo=TzInfo(UTC)), confirmed_at=None, email_confirmed_at=None, phone_confirmed_at=None, last_sign_in_at=None, role='', updated_at=datetime.datetime(2024, 12, 12, 12, 1, 4, 435002, tzinfo=TzInfo(UTC)), identities=[], is_anonymous=False, factors=None)}"
      ]
     },
     "execution_count": 4,
     "metadata": {},
     "output_type": "execute_result"
    }
   ],
   "source": [
    "new_user"
   ]
  },
  {
   "cell_type": "code",
   "execution_count": 5,
   "metadata": {},
   "outputs": [],
   "source": [
    "# Authenticate a user\n",
    "auth_response = auth.authenticate_user(\n",
    "    email=\"rishubcheddlla@gmail.com\",\n",
    "    password=\"secure_password\"\n",
    ")"
   ]
  },
  {
   "cell_type": "code",
   "execution_count": 7,
   "metadata": {},
   "outputs": [
    {
     "data": {
      "text/plain": [
       "User(id='1d4a1aec-faff-4dc6-9abc-8d103c7a3c5e', app_metadata={'provider': 'email', 'providers': ['email']}, user_metadata={'email': 'rishubcheddlla@gmail.com', 'email_verified': False, 'name': 'Rishub C R', 'phone_verified': False, 'sub': '1d4a1aec-faff-4dc6-9abc-8d103c7a3c5e'}, aud='authenticated', confirmation_sent_at=datetime.datetime(2024, 12, 12, 11, 41, 57, 551991, tzinfo=TzInfo(UTC)), recovery_sent_at=datetime.datetime(2024, 12, 12, 11, 48, 13, 272263, tzinfo=TzInfo(UTC)), email_change_sent_at=None, new_email=None, new_phone=None, invited_at=None, action_link=None, email='rishubcheddlla@gmail.com', phone='', created_at=datetime.datetime(2024, 12, 12, 11, 34, 30, 326965, tzinfo=TzInfo(UTC)), confirmed_at=datetime.datetime(2024, 12, 12, 11, 42, 15, 227982, tzinfo=TzInfo(UTC)), email_confirmed_at=datetime.datetime(2024, 12, 12, 11, 42, 15, 227982, tzinfo=TzInfo(UTC)), phone_confirmed_at=None, last_sign_in_at=datetime.datetime(2024, 12, 12, 12, 1, 5, 92007, tzinfo=TzInfo(UTC)), role='authenticated', updated_at=datetime.datetime(2024, 12, 12, 12, 1, 5, 95940, tzinfo=TzInfo(UTC)), identities=[UserIdentity(id='1d4a1aec-faff-4dc6-9abc-8d103c7a3c5e', identity_id='53ab8039-fc00-45f5-b42d-58f7103a64dc', user_id='1d4a1aec-faff-4dc6-9abc-8d103c7a3c5e', identity_data={'email': 'rishubcheddlla@gmail.com', 'email_verified': False, 'name': 'Rishub C R', 'phone_verified': False, 'sub': '1d4a1aec-faff-4dc6-9abc-8d103c7a3c5e'}, provider='email', created_at=datetime.datetime(2024, 12, 12, 11, 34, 30, 360107, tzinfo=TzInfo(UTC)), last_sign_in_at=datetime.datetime(2024, 12, 12, 11, 34, 30, 359099, tzinfo=TzInfo(UTC)), updated_at=datetime.datetime(2024, 12, 12, 11, 34, 30, 360107, tzinfo=TzInfo(UTC)))], is_anonymous=False, factors=None)"
      ]
     },
     "execution_count": 7,
     "metadata": {},
     "output_type": "execute_result"
    }
   ],
   "source": [
    "auth_response['data'].user"
   ]
  },
  {
   "cell_type": "code",
   "execution_count": 41,
   "metadata": {},
   "outputs": [],
   "source": [
    "# Validate a user\n",
    "user_data = auth.validate_user()"
   ]
  },
  {
   "cell_type": "code",
   "execution_count": 42,
   "metadata": {},
   "outputs": [
    {
     "data": {
      "text/plain": [
       "{'status': 'success',\n",
       " 'data': UserResponse(user=User(id='1d4a1aec-faff-4dc6-9abc-8d103c7a3c5e', app_metadata={'provider': 'email', 'providers': ['email']}, user_metadata={'email': 'rishubcheddlla@gmail.com', 'email_verified': False, 'name': 'Rishub C R', 'phone_verified': False, 'sub': '1d4a1aec-faff-4dc6-9abc-8d103c7a3c5e'}, aud='authenticated', confirmation_sent_at=datetime.datetime(2024, 12, 12, 11, 41, 57, 551991, tzinfo=TzInfo(UTC)), recovery_sent_at=datetime.datetime(2024, 12, 12, 11, 44, 26, 568406, tzinfo=TzInfo(UTC)), email_change_sent_at=None, new_email=None, new_phone=None, invited_at=None, action_link=None, email='rishubcheddlla@gmail.com', phone='', created_at=datetime.datetime(2024, 12, 12, 11, 34, 30, 326965, tzinfo=TzInfo(UTC)), confirmed_at=datetime.datetime(2024, 12, 12, 11, 42, 15, 227982, tzinfo=TzInfo(UTC)), email_confirmed_at=datetime.datetime(2024, 12, 12, 11, 42, 15, 227982, tzinfo=TzInfo(UTC)), phone_confirmed_at=None, last_sign_in_at=datetime.datetime(2024, 12, 12, 11, 48, 10, 19279, tzinfo=TzInfo(UTC)), role='authenticated', updated_at=datetime.datetime(2024, 12, 12, 11, 48, 10, 23646, tzinfo=TzInfo(UTC)), identities=[UserIdentity(id='1d4a1aec-faff-4dc6-9abc-8d103c7a3c5e', identity_id='53ab8039-fc00-45f5-b42d-58f7103a64dc', user_id='1d4a1aec-faff-4dc6-9abc-8d103c7a3c5e', identity_data={'email': 'rishubcheddlla@gmail.com', 'email_verified': False, 'name': 'Rishub C R', 'phone_verified': False, 'sub': '1d4a1aec-faff-4dc6-9abc-8d103c7a3c5e'}, provider='email', created_at=datetime.datetime(2024, 12, 12, 11, 34, 30, 360107, tzinfo=TzInfo(UTC)), last_sign_in_at=datetime.datetime(2024, 12, 12, 11, 34, 30, 359099, tzinfo=TzInfo(UTC)), updated_at=datetime.datetime(2024, 12, 12, 11, 34, 30, 360107, tzinfo=TzInfo(UTC)))], is_anonymous=False, factors=None))}"
      ]
     },
     "execution_count": 42,
     "metadata": {},
     "output_type": "execute_result"
    }
   ],
   "source": [
    "user_data"
   ]
  },
  {
   "cell_type": "code",
   "execution_count": 43,
   "metadata": {},
   "outputs": [],
   "source": [
    "otp_response = auth.send_otp(\"rishubcheddlla@gmail.com\")"
   ]
  },
  {
   "cell_type": "code",
   "execution_count": 44,
   "metadata": {},
   "outputs": [
    {
     "data": {
      "text/plain": [
       "{'status': 'success', 'message': 'OTP sent successfully'}"
      ]
     },
     "execution_count": 44,
     "metadata": {},
     "output_type": "execute_result"
    }
   ],
   "source": [
    "otp_response"
   ]
  },
  {
   "cell_type": "code",
   "execution_count": 45,
   "metadata": {},
   "outputs": [],
   "source": [
    "verify_response = auth.verify_otp(\n",
    "    email=\"rishubcheddlla@gmail.com\",\n",
    "    token=\"123456\"  # OTP received by user\n",
    ")"
   ]
  },
  {
   "cell_type": "code",
   "execution_count": 46,
   "metadata": {},
   "outputs": [
    {
     "data": {
      "text/plain": [
       "{'status': 'error', 'message': 'Token has expired or is invalid'}"
      ]
     },
     "execution_count": 46,
     "metadata": {},
     "output_type": "execute_result"
    }
   ],
   "source": [
    "verify_response"
   ]
  },
  {
   "cell_type": "code",
   "execution_count": null,
   "metadata": {},
   "outputs": [],
   "source": []
  }
 ],
 "metadata": {
  "kernelspec": {
   "display_name": "personal",
   "language": "python",
   "name": "python3"
  },
  "language_info": {
   "codemirror_mode": {
    "name": "ipython",
    "version": 3
   },
   "file_extension": ".py",
   "mimetype": "text/x-python",
   "name": "python",
   "nbconvert_exporter": "python",
   "pygments_lexer": "ipython3",
   "version": "3.11.10"
  }
 },
 "nbformat": 4,
 "nbformat_minor": 2
}

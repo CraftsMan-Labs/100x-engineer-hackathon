{
 "cells": [
  {
   "cell_type": "code",
   "execution_count": 1,
   "metadata": {},
   "outputs": [
    {
     "data": {
      "text/plain": [
       "True"
      ]
     },
     "execution_count": 1,
     "metadata": {},
     "output_type": "execute_result"
    }
   ],
   "source": [
    "import sys\n",
    "import os\n",
    "\n",
    "CUR_DIR = os.getcwd()\n",
    "CUR_DIR = CUR_DIR.replace(\"\\\\\", \"/\").replace('/src/exp','')\n",
    "sys.path.append(CUR_DIR)\n",
    "CUR_DIR = CUR_DIR + '/src'\n",
    "sys.path.append(CUR_DIR)\n",
    "from dotenv import load_dotenv\n",
    "\n",
    "load_dotenv()"
   ]
  },
  {
   "cell_type": "code",
   "execution_count": 2,
   "metadata": {},
   "outputs": [
    {
     "data": {
      "text/plain": [
       "'c:/Users/Rishub/Desktop/Projects/personal/100x-engineer-hackathon/src'"
      ]
     },
     "execution_count": 2,
     "metadata": {},
     "output_type": "execute_result"
    }
   ],
   "source": [
    "CUR_DIR"
   ]
  },
  {
   "cell_type": "code",
   "execution_count": 3,
   "metadata": {},
   "outputs": [],
   "source": [
    "from app.schemas.llm import ChatRequest, Message\n",
    "from pydantic import BaseModel\n",
    "from app.llm import LiteLLMKit"
   ]
  },
  {
   "cell_type": "code",
   "execution_count": 4,
   "metadata": {},
   "outputs": [],
   "source": [
    "client = LiteLLMKit(model_name=\"gpt-4o\", temperature=0.7, max_tokens=1024, stream=False)\n",
    "\n",
    "request = ChatRequest(\n",
    "    messages=[Message(role=\"user\", content=\"Write a hello world program in Python\")]\n",
    ")\n",
    "\n",
    "class pythonCode(BaseModel):\n",
    "    code: str\n",
    "\n",
    "response = client.generate(request, response_format=pythonCode)\n"
   ]
  },
  {
   "cell_type": "code",
   "execution_count": 5,
   "metadata": {},
   "outputs": [
    {
     "data": {
      "text/plain": [
       "{'code': '# A simple \"Hello, World!\" program in Python\\n\\ndef main():\\n    # Print the classic \"Hello, World!\" message to the console\\n    print(\"Hello, World!\")\\n\\n# Ensure the main function runs when the script is executed\\nif __name__ == \"__main__\":\\n    main()\\n'}"
      ]
     },
     "execution_count": 5,
     "metadata": {},
     "output_type": "execute_result"
    }
   ],
   "source": [
    "response"
   ]
  },
  {
   "cell_type": "code",
   "execution_count": 6,
   "metadata": {},
   "outputs": [],
   "source": [
    "client = LiteLLMKit(model_name=\"gemini-1.5-flash\", temperature=0.7, max_tokens=1024, stream=False)\n",
    "\n",
    "request = ChatRequest(\n",
    "    messages=[Message(role=\"user\", content=\"Write a hello world program in Python\")]\n",
    ")\n",
    "\n",
    "class pythonCode(BaseModel):\n",
    "    code: str\n",
    "\n",
    "response = client.generate(request, response_format=pythonCode)\n"
   ]
  },
  {
   "cell_type": "code",
   "execution_count": 7,
   "metadata": {},
   "outputs": [
    {
     "data": {
      "text/plain": [
       "{'code': 'print(\"Hello, world!\")'}"
      ]
     },
     "execution_count": 7,
     "metadata": {},
     "output_type": "execute_result"
    }
   ],
   "source": [
    "response"
   ]
  },
  {
   "cell_type": "code",
   "execution_count": null,
   "metadata": {},
   "outputs": [],
   "source": []
  }
 ],
 "metadata": {
  "kernelspec": {
   "display_name": "personal",
   "language": "python",
   "name": "python3"
  },
  "language_info": {
   "codemirror_mode": {
    "name": "ipython",
    "version": 3
   },
   "file_extension": ".py",
   "mimetype": "text/x-python",
   "name": "python",
   "nbconvert_exporter": "python",
   "pygments_lexer": "ipython3",
   "version": "3.11.10"
  }
 },
 "nbformat": 4,
 "nbformat_minor": 2
}
